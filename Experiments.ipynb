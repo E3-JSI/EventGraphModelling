{
 "cells": [
  {
   "cell_type": "code",
   "execution_count": 10,
   "metadata": {
    "collapsed": true
   },
   "outputs": [],
   "source": [
    "import Erdos_Renyi as er \n",
    "from pyhawkes.models import DiscreteTimeNetworkHawkesModelSpikeAndSlab\n",
    "from pyhawkes.internals import parents\n",
    "import json \n",
    "import pandas as pd \n",
    "from collections import Counter\n",
    "import numpy as np\n",
    "import networkx as nx\n",
    "import matplotlib.pyplot as plt"
   ]
  },
  {
   "cell_type": "code",
   "execution_count": 2,
   "metadata": {
    "collapsed": true
   },
   "outputs": [],
   "source": [
    "# Parameters\n",
    "p = 0.5\n",
    "dt_max=200\n",
    "subset = 200\n",
    "K = subset"
   ]
  },
  {
   "cell_type": "code",
   "execution_count": 3,
   "metadata": {},
   "outputs": [
    {
     "name": "stdout",
     "output_type": "stream",
     "text": [
      "Reading in data\n"
     ]
    }
   ],
   "source": [
    "# Real data\n",
    "settings = json.load(open(\"settings.json\",\"r\"))\n",
    "# Path to file\n",
    "events_embd = settings[\"out_path\"]+\"concepts_date_embd.csv\"\n",
    "# load events\n",
    "print(\"Reading in data\")\n",
    "events = pd.read_csv(events_embd,header=None)\n"
   ]
  },
  {
   "cell_type": "code",
   "execution_count": 4,
   "metadata": {
    "collapsed": true
   },
   "outputs": [],
   "source": [
    "L = events.head(subset).iloc[:,:-1].values\n",
    "S_real = np.eye(subset,dtype=np.int)#events.head(subset)[300].values"
   ]
  },
  {
   "cell_type": "code",
   "execution_count": 11,
   "metadata": {
    "collapsed": true
   },
   "outputs": [
    {
     "name": "stdout",
     "output_type": "stream",
     "text": [
      "> c:\\users\\miha\\dropbox\\institut\\phd\\pointprocess\\code\\eventgraphmodelling\\erdos_renyi.py(719)resample()\n",
      "-> # Resample W | A\n",
      "(Pdb) n\n",
      "> c:\\users\\miha\\dropbox\\institut\\phd\\pointprocess\\code\\eventgraphmodelling\\erdos_renyi.py(722)resample()\n",
      "-> # Resample A given W\n",
      "(Pdb) n\n",
      "> c:\\users\\miha\\dropbox\\institut\\phd\\pointprocess\\code\\eventgraphmodelling\\erdos_renyi.py(725)resample()\n",
      "-> else:\n",
      "(Pdb) \n",
      "--Return--\n",
      "> c:\\users\\miha\\dropbox\\institut\\phd\\pointprocess\\code\\eventgraphmodelling\\erdos_renyi.py(725)resample()->None\n",
      "-> else:\n",
      "(Pdb) n\n",
      "--Return--\n",
      "> c:\\users\\miha\\dropbox\\institut\\phd\\pointprocess\\code\\eventgraphmodelling\\erdos_renyi.py(586)__init__()->None\n",
      "-> self.resample()\n",
      "(Pdb) n\n",
      "--Return--\n",
      "> <ipython-input-11-3e49d05f168b>(3)<module>()->None\n",
      "-> weight_model = er.SpikeAndSlabGammaWeights(model = ld_network, parallel_resampling=False)\n",
      "(Pdb) n\n",
      "> c:\\users\\miha\\anaconda2\\envs\\python3\\lib\\site-packages\\ipython\\core\\interactiveshell.py(2865)run_code()\n",
      "-> sys.excepthook = old_excepthook\n",
      "(Pdb) \n",
      "> c:\\users\\miha\\anaconda2\\envs\\python3\\lib\\site-packages\\ipython\\core\\interactiveshell.py(2881)run_code()\n",
      "-> outflag = False\n",
      "(Pdb) \n",
      "> c:\\users\\miha\\anaconda2\\envs\\python3\\lib\\site-packages\\ipython\\core\\interactiveshell.py(2882)run_code()\n",
      "-> return outflag\n",
      "(Pdb) \n",
      "--Return--\n",
      "> c:\\users\\miha\\anaconda2\\envs\\python3\\lib\\site-packages\\ipython\\core\\interactiveshell.py(2882)run_code()->False\n",
      "-> return outflag\n",
      "(Pdb) \n",
      "> c:\\users\\miha\\anaconda2\\envs\\python3\\lib\\site-packages\\ipython\\core\\interactiveshell.py(2799)run_ast_nodes()\n",
      "-> for i, node in enumerate(to_run_exec):\n",
      "(Pdb) \n",
      "> c:\\users\\miha\\anaconda2\\envs\\python3\\lib\\site-packages\\ipython\\core\\interactiveshell.py(2805)run_ast_nodes()\n",
      "-> for i, node in enumerate(to_run_interactive):\n",
      "(Pdb) \n",
      "> c:\\users\\miha\\anaconda2\\envs\\python3\\lib\\site-packages\\ipython\\core\\interactiveshell.py(2812)run_ast_nodes()\n",
      "-> if softspace(sys.stdout, 0):\n",
      "(Pdb) c\n"
     ]
    }
   ],
   "source": [
    "ld_network = er.LatentDistanceAdjacencyModel(K=K, L = L, dim=2, v=None, alpha=1.0, beta=1.0,kappa=1.0,p = p)\n",
    "\n",
    "weight_model = er.SpikeAndSlabGammaWeights(model = ld_network, parallel_resampling=False)"
   ]
  },
  {
   "cell_type": "code",
   "execution_count": 12,
   "metadata": {},
   "outputs": [],
   "source": [
    "class empty_model():\n",
    "    def __init__(self,S):\n",
    "        self.dt = 0\n",
    "        self.K = S.shape[0]\n",
    "        self.B = 0\n",
    "        self.bias_model = None"
   ]
  },
  {
   "cell_type": "code",
   "execution_count": null,
   "metadata": {},
   "outputs": [],
   "source": [
    "data  = parents.DiscreteTimeParents(model = None,S = S_real, T = S_real.shape[0],F=None)\n",
    "weight_model.resample(data)\n",
    "#A,W = weight_model.A,weight_model.W\n",
    "# resample graph with new data \n",
    "ld_network.resample(data=[weight_model.A,weight_model.W])\n",
    "\n"
   ]
  },
  {
   "cell_type": "code",
   "execution_count": null,
   "metadata": {
    "collapsed": true
   },
   "outputs": [],
   "source": [
    "G = nx.from_numpy_matrix(self.A)\n",
    "nx.draw(G,with_labels=True,with_edges=True)"
   ]
  }
 ],
 "metadata": {
  "kernelspec": {
   "display_name": "Python [conda env:Python3]",
   "language": "python",
   "name": "conda-env-Python3-py"
  },
  "language_info": {
   "codemirror_mode": {
    "name": "ipython",
    "version": 3
   },
   "file_extension": ".py",
   "mimetype": "text/x-python",
   "name": "python",
   "nbconvert_exporter": "python",
   "pygments_lexer": "ipython3",
   "version": "3.6.2"
  }
 },
 "nbformat": 4,
 "nbformat_minor": 2
}
