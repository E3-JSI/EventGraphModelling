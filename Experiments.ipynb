{
 "cells": [
  {
   "cell_type": "code",
   "execution_count": 36,
   "metadata": {},
   "outputs": [],
   "source": [
    "import Erdos_Renyi as er \n",
    "from pyhawkes.models import DiscreteTimeNetworkHawkesModelSpikeAndSlab\n",
    "from pyhawkes.internals import parents\n",
    "import json \n",
    "import pandas as pd \n",
    "from collections import Counter\n",
    "import numpy as np\n",
    "import networkx as nx\n",
    "import matplotlib.pyplot as plt"
   ]
  },
  {
   "cell_type": "code",
   "execution_count": 3,
   "metadata": {
    "collapsed": true
   },
   "outputs": [],
   "source": [
    "# Parameters\n",
    "p = 0.5\n",
    "dt_max=200\n",
    "subset = 200\n",
    "K = subset"
   ]
  },
  {
   "cell_type": "code",
   "execution_count": 4,
   "metadata": {},
   "outputs": [
    {
     "name": "stdout",
     "output_type": "stream",
     "text": [
      "Reading in data\n"
     ]
    }
   ],
   "source": [
    "# Real data\n",
    "settings = json.load(open(\"settings.json\",\"r\"))\n",
    "# Path to file\n",
    "events_embd = settings[\"out_path\"]+\"concepts_date_embd.csv\"\n",
    "# load events\n",
    "print(\"Reading in data\")\n",
    "events = pd.read_csv(events_embd,header=None)"
   ]
  },
  {
   "cell_type": "code",
   "execution_count": 13,
   "metadata": {
    "collapsed": true
   },
   "outputs": [],
   "source": [
    "L = events.head(subset).iloc[:,:-1].values\n",
    "S_real = np.eye(subset,dtype=np.int)#events.head(subset)[300].values"
   ]
  },
  {
   "cell_type": "code",
   "execution_count": 18,
   "metadata": {},
   "outputs": [
    {
     "data": {
      "text/plain": [
       "array([[0.        , 0.78597979, 0.46716433, ..., 0.61455838, 0.45565424,\n",
       "        0.6543672 ],\n",
       "       [0.78597979, 0.        , 0.61603973, ..., 0.76472263, 0.62782137,\n",
       "        0.69494905],\n",
       "       [0.46716433, 0.61603973, 0.        , ..., 0.52943073, 0.25831987,\n",
       "        0.39659319],\n",
       "       ...,\n",
       "       [0.61455838, 0.76472263, 0.52943073, ..., 0.        , 0.51750504,\n",
       "        0.64618552],\n",
       "       [0.45565424, 0.62782137, 0.25831987, ..., 0.51750504, 0.        ,\n",
       "        0.48938854],\n",
       "       [0.6543672 , 0.69494905, 0.39659319, ..., 0.64618552, 0.48938854,\n",
       "        0.        ]])"
      ]
     },
     "execution_count": 18,
     "metadata": {},
     "output_type": "execute_result"
    }
   ],
   "source": [
    "W"
   ]
  },
  {
   "cell_type": "code",
   "execution_count": 41,
   "metadata": {
    "collapsed": true
   },
   "outputs": [],
   "source": [
    "ld_network = er.LatentDistanceAdjacencyModel(K=K, L = L, dim=2, v=None, alpha=1.0, beta=1.0,kappa=1.0,p = p)\n",
    "weight_model = er.SpikeAndSlabGammaWeights(model = ld_network, parallel_resampling=False)"
   ]
  },
  {
   "cell_type": "code",
   "execution_count": 42,
   "metadata": {},
   "outputs": [],
   "source": [
    "W = get_W(L)\n",
    "data = [S_real,W]\n",
    "\n",
    "weight_model.resample_new(data)"
   ]
  },
  {
   "cell_type": "code",
   "execution_count": null,
   "metadata": {
    "collapsed": true
   },
   "outputs": [],
   "source": [
    "ld_network.resample(data=data)\n"
   ]
  },
  {
   "cell_type": "code",
   "execution_count": 39,
   "metadata": {},
   "outputs": [
    {
     "data": {
      "text/plain": [
       "array([[0.        , 0.78597979, 0.46716433, ..., 0.61455838, 0.45565424,\n",
       "        0.6543672 ],\n",
       "       [0.78597979, 0.        , 0.61603973, ..., 0.76472263, 0.62782137,\n",
       "        0.69494905],\n",
       "       [0.46716433, 0.61603973, 0.        , ..., 0.52943073, 0.25831987,\n",
       "        0.39659319],\n",
       "       ...,\n",
       "       [0.61455838, 0.76472263, 0.52943073, ..., 0.        , 0.51750504,\n",
       "        0.64618552],\n",
       "       [0.45565424, 0.62782137, 0.25831987, ..., 0.51750504, 0.        ,\n",
       "        0.48938854],\n",
       "       [0.6543672 , 0.69494905, 0.39659319, ..., 0.64618552, 0.48938854,\n",
       "        0.        ]])"
      ]
     },
     "execution_count": 39,
     "metadata": {},
     "output_type": "execute_result"
    }
   ],
   "source": [
    "W"
   ]
  },
  {
   "cell_type": "code",
   "execution_count": 40,
   "metadata": {},
   "outputs": [
    {
     "data": {
      "text/plain": [
       "array([[0., 0., 0., ..., 0., 0., 0.],\n",
       "       [0., 0., 0., ..., 0., 0., 0.],\n",
       "       [0., 0., 0., ..., 0., 0., 0.],\n",
       "       ...,\n",
       "       [0., 0., 0., ..., 0., 0., 0.],\n",
       "       [0., 0., 0., ..., 0., 0., 0.],\n",
       "       [0., 0., 0., ..., 0., 0., 0.]])"
      ]
     },
     "execution_count": 40,
     "metadata": {},
     "output_type": "execute_result"
    }
   ],
   "source": [
    "G = nx.from_numpy_matrix(self.A)\n",
    "nx.draw(G,with_labels=True,with_edges=True)"
   ]
  },
  {
   "cell_type": "code",
   "execution_count": 12,
   "metadata": {
    "collapsed": true
   },
   "outputs": [],
   "source": [
    "class empty_model():\n",
    "    def __init__(self,S):\n",
    "        self.dt = 0\n",
    "        self.K = S.shape[0]\n",
    "        self.B = 0\n",
    "        self.bias_model = None"
   ]
  },
  {
   "cell_type": "code",
   "execution_count": null,
   "metadata": {
    "collapsed": true
   },
   "outputs": [],
   "source": [
    "data  = parents.DiscreteTimeParents(model = None,S = S_real, T = S_real.shape[0],F=None)\n",
    "\n",
    "def logistic(x): \n",
    "    return 1./(1+np.exp(-x))\n",
    "\n",
    "def get_W(data):\n",
    "    dim = len(data)\n",
    "    W = np.zeros((dim,dim))\n",
    "    \n",
    "    for i in range(dim):\n",
    "        for j in range(i+1,dim):\n",
    "            W[i,j] = np.linalg.norm(data[i] - data[j])\n",
    "    \n",
    "    W += W.T\n",
    "    W_norm = 100/np.linalg.norm(W) * W \n",
    "\n",
    "    return W_norm"
   ]
  },
  {
   "cell_type": "code",
   "execution_count": null,
   "metadata": {
    "collapsed": true
   },
   "outputs": [],
   "source": []
  }
 ],
 "metadata": {
  "kernelspec": {
   "display_name": "Python [conda env:Python3]",
   "language": "python",
   "name": "conda-env-Python3-py"
  },
  "language_info": {
   "codemirror_mode": {
    "name": "ipython",
    "version": 3
   },
   "file_extension": ".py",
   "mimetype": "text/x-python",
   "name": "python",
   "nbconvert_exporter": "python",
   "pygments_lexer": "ipython3",
   "version": "3.6.2"
  }
 },
 "nbformat": 4,
 "nbformat_minor": 2
}
