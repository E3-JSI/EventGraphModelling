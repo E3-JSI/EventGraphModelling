{
 "cells": [
  {
   "cell_type": "code",
   "execution_count": 38,
   "metadata": {
    "collapsed": true
   },
   "outputs": [],
   "source": [
    "import Erdos_Renyi as er \n",
    "from pyhawkes.models import DiscreteTimeNetworkHawkesModelSpikeAndSlab\n",
    "from pyhawkes.internals import parents\n",
    "import json \n",
    "import pandas as pd \n",
    "from collections import Counter\n",
    "import numpy as np\n",
    "import networkx as nx\n",
    "import matplotlib.pyplot as plt"
   ]
  },
  {
   "cell_type": "code",
   "execution_count": 2,
   "metadata": {
    "collapsed": true
   },
   "outputs": [],
   "source": [
    "# Parameters\n",
    "p = 0.5\n",
    "dt_max=200\n",
    "subset = 200\n",
    "K = subset"
   ]
  },
  {
   "cell_type": "code",
   "execution_count": 3,
   "metadata": {},
   "outputs": [
    {
     "name": "stdout",
     "output_type": "stream",
     "text": [
      "Reading in data\n"
     ]
    }
   ],
   "source": [
    "# Real data\n",
    "settings = json.load(open(\"settings.json\",\"r\"))\n",
    "# Path to file\n",
    "events_embd = settings[\"out_path\"]+\"concepts_date_embd.csv\"\n",
    "# load events\n",
    "print(\"Reading in data\")\n",
    "events = pd.read_csv(events_embd,header=None)\n"
   ]
  },
  {
   "cell_type": "code",
   "execution_count": 4,
   "metadata": {
    "collapsed": true
   },
   "outputs": [],
   "source": [
    "L = events.head(subset).iloc[:,:-1].values\n",
    "S_real = np.eye(subset,dtype=np.int)#events.head(subset)[300].values"
   ]
  },
  {
   "cell_type": "code",
   "execution_count": 51,
   "metadata": {
    "collapsed": true
   },
   "outputs": [],
   "source": [
    "def logistic(x): \n",
    "    return 1./(1+np.exp(-x))\n",
    "\n",
    "def get_W(data):\n",
    "    dim = len(data)\n",
    "    W = np.zeros((dim,dim))\n",
    "    \n",
    "    for i in range(dim):\n",
    "        for j in range(i+1,dim):\n",
    "            W[i,j] = np.linalg.norm(data[i] - data[j])\n",
    "    \n",
    "    W += W.T\n",
    "    W_norm = 100/np.linalg.norm(W) * W \n",
    "\n",
    "    return W_norm"
   ]
  },
  {
   "cell_type": "code",
   "execution_count": 17,
   "metadata": {},
   "outputs": [
    {
     "data": {
      "text/plain": [
       "array([[0.        , 0.78597979, 0.46716433, ..., 0.61455838, 0.45565424,\n",
       "        0.6543672 ],\n",
       "       [0.78597979, 0.        , 0.61603973, ..., 0.76472263, 0.62782137,\n",
       "        0.69494905],\n",
       "       [0.46716433, 0.61603973, 0.        , ..., 0.52943073, 0.25831987,\n",
       "        0.39659319],\n",
       "       ...,\n",
       "       [0.61455838, 0.76472263, 0.52943073, ..., 0.        , 0.51750504,\n",
       "        0.64618552],\n",
       "       [0.45565424, 0.62782137, 0.25831987, ..., 0.51750504, 0.        ,\n",
       "        0.48938854],\n",
       "       [0.6543672 , 0.69494905, 0.39659319, ..., 0.64618552, 0.48938854,\n",
       "        0.        ]])"
      ]
     },
     "execution_count": 17,
     "metadata": {},
     "output_type": "execute_result"
    }
   ],
   "source": []
  },
  {
   "cell_type": "code",
   "execution_count": 45,
   "metadata": {},
   "outputs": [],
   "source": [
    "ld_network = er.LatentDistanceAdjacencyModel(K=K, L = L, dim=2, v=None, alpha=1.0, beta=1.0,kappa=1.0,p = p)\n",
    "\n",
    "#weight_model = er.SpikeAndSlabGammaWeights(model = ld_network, parallel_resampling=False)"
   ]
  },
  {
   "cell_type": "code",
   "execution_count": 52,
   "metadata": {},
   "outputs": [
    {
     "data": {
      "text/plain": [
       "array([[0, 1, 1, ..., 1, 1, 1],\n",
       "       [1, 0, 1, ..., 1, 1, 1],\n",
       "       [1, 1, 0, ..., 1, 1, 1],\n",
       "       ...,\n",
       "       [1, 1, 1, ..., 0, 1, 1],\n",
       "       [1, 1, 1, ..., 1, 0, 1],\n",
       "       [1, 1, 1, ..., 1, 1, 0]])"
      ]
     },
     "execution_count": 52,
     "metadata": {},
     "output_type": "execute_result"
    }
   ],
   "source": [
    "W = get_W(L)\n",
    "P = ld_network.P\n",
    "A = np.ones((K,K))\n",
    "\n",
    "ll = P < W\n",
    "A = ll.astype(np.int)\n",
    "A"
   ]
  },
  {
   "cell_type": "code",
   "execution_count": 55,
   "metadata": {},
   "outputs": [
    {
     "data": {
      "text/plain": [
       "array([[5.00000000e+02, 5.67694726e-21, 6.13395126e-06, ...,\n",
       "        6.14019743e-12, 1.53966322e-05, 7.71564485e-14],\n",
       "       [5.67694726e-21, 5.00000000e+02, 5.24308600e-12, ...,\n",
       "        9.87418676e-20, 1.47279809e-12, 6.71258058e-16],\n",
       "       [6.13395126e-06, 5.24308600e-12, 5.00000000e+02, ...,\n",
       "        2.83590926e-08, 3.07402734e+00, 1.20633984e-03],\n",
       "       ...,\n",
       "       [6.14019743e-12, 9.87418676e-20, 2.83590926e-08, ...,\n",
       "        5.00000000e+02, 8.36579717e-08, 1.93986743e-13],\n",
       "       [1.53966322e-05, 1.47279809e-12, 3.07402734e+00, ...,\n",
       "        8.36579717e-08, 5.00000000e+02, 9.72294426e-07],\n",
       "       [7.71564485e-14, 6.71258058e-16, 1.20633984e-03, ...,\n",
       "        1.93986743e-13, 9.72294426e-07, 5.00000000e+02]])"
      ]
     },
     "execution_count": 55,
     "metadata": {},
     "output_type": "execute_result"
    }
   ],
   "source": [
    "P*1000"
   ]
  },
  {
   "cell_type": "code",
   "execution_count": 12,
   "metadata": {},
   "outputs": [],
   "source": [
    "class empty_model():\n",
    "    def __init__(self,S):\n",
    "        self.dt = 0\n",
    "        self.K = S.shape[0]\n",
    "        self.B = 0\n",
    "        self.bias_model = None"
   ]
  },
  {
   "cell_type": "code",
   "execution_count": null,
   "metadata": {},
   "outputs": [],
   "source": [
    "data  = parents.DiscreteTimeParents(model = None,S = S_real, T = S_real.shape[0],F=None)\n",
    "weight_model.resample(data)\n",
    "#A,W = weight_model.A,weight_model.W\n",
    "# resample graph with new data \n",
    "ld_network.resample(data=[weight_model.A,weight_model.W])\n",
    "\n"
   ]
  },
  {
   "cell_type": "code",
   "execution_count": null,
   "metadata": {
    "collapsed": true
   },
   "outputs": [],
   "source": [
    "G = nx.from_numpy_matrix(self.A)\n",
    "nx.draw(G,with_labels=True,with_edges=True)"
   ]
  }
 ],
 "metadata": {
  "kernelspec": {
   "display_name": "Python [conda env:Python3]",
   "language": "python",
   "name": "conda-env-Python3-py"
  },
  "language_info": {
   "codemirror_mode": {
    "name": "ipython",
    "version": 3
   },
   "file_extension": ".py",
   "mimetype": "text/x-python",
   "name": "python",
   "nbconvert_exporter": "python",
   "pygments_lexer": "ipython3",
   "version": "3.6.2"
  }
 },
 "nbformat": 4,
 "nbformat_minor": 2
}
